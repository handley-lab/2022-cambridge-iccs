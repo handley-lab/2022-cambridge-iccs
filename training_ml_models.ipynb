{
 "cells": [
  {
   "cell_type": "markdown",
   "id": "ff84b8ed",
   "metadata": {},
   "source": [
    "# Example 1: Introduction to regression\n",
    "\n",
    " This notebook is designed to introduce the basic concepts of training models\n",
    " using the numpy and scipy libraries alone."
   ]
  },
  {
   "cell_type": "markdown",
   "id": "408ad691",
   "metadata": {},
   "source": [
    "Import the key libraries and functions."
   ]
  },
  {
   "cell_type": "code",
   "execution_count": null,
   "id": "88a3f31e",
   "metadata": {},
   "outputs": [],
   "source": [
    "import numpy as np"
   ]
  },
  {
   "cell_type": "markdown",
   "id": "dd672e9e",
   "metadata": {},
   "source": [
    "Load the data."
   ]
  },
  {
   "cell_type": "code",
   "execution_count": null,
   "id": "e7ca642d",
   "metadata": {},
   "outputs": [],
   "source": [
    "data_x, data_y = np.loadtxt('example_1_data.csv').T"
   ]
  },
  {
   "cell_type": "markdown",
   "id": "105c6b34",
   "metadata": {},
   "source": [
    "Plot the data"
   ]
  },
  {
   "cell_type": "code",
   "execution_count": null,
   "id": "fdf89085",
   "metadata": {},
   "outputs": [],
   "source": [
    "import matplotlib.pyplot as plt\n",
    "plt.plot(data_x, data_y, '.');"
   ]
  },
  {
   "cell_type": "markdown",
   "id": "43c6ed33",
   "metadata": {},
   "source": [
    "Define our model function"
   ]
  },
  {
   "cell_type": "code",
   "execution_count": null,
   "id": "c3f9fb6f",
   "metadata": {},
   "outputs": [],
   "source": [
    "def f(x, theta):\n",
    "    i = np.arange(len(theta))\n",
    "    x = np.array(x)\n",
    "    return (theta * x[..., None]**i).sum(axis=-1)"
   ]
  },
  {
   "cell_type": "markdown",
   "id": "e93e51cb",
   "metadata": {},
   "source": [
    "- **Q1**: What does the `f` define?\n",
    "- **Q2**: What does `None` slicing do?\n",
    "- **Q3**: Why choose `...` rather than `:`?\n",
    "- **Q4**: Why is `axis=-1` essential to the above?\n",
    "- **(Optional exercise)**: Are you able to extend the above to `theta`?"
   ]
  },
  {
   "cell_type": "markdown",
   "id": "039c2209",
   "metadata": {},
   "source": [
    "Now fit the model to the data by minimising a loss function"
   ]
  },
  {
   "cell_type": "code",
   "execution_count": null,
   "id": "93982ae6",
   "metadata": {},
   "outputs": [],
   "source": [
    "from scipy.optimize import minimize\n",
    "\n",
    "def loss(theta):\n",
    "    return ((f(data_x, theta) - data_y)**2).sum()\n",
    "\n",
    "theta0 = np.zeros(4)\n",
    "sol = minimize(loss, theta0)"
   ]
  },
  {
   "cell_type": "markdown",
   "id": "c4ebdb94",
   "metadata": {},
   "source": [
    "- **Q5**: \n",
    " Plot the solution"
   ]
  },
  {
   "cell_type": "code",
   "execution_count": null,
   "id": "632fb9fa",
   "metadata": {},
   "outputs": [],
   "source": [
    "theta = sol.x\n",
    "plt.plot(data_x, data_y, '.')\n",
    "x = np.linspace(-1,3,1001)\n",
    "plt.plot(x, f(x, theta));"
   ]
  },
  {
   "cell_type": "markdown",
   "id": "6a140195",
   "metadata": {},
   "source": [
    "Consider models of increasing complexity"
   ]
  },
  {
   "cell_type": "code",
   "execution_count": null,
   "id": "f0adf415",
   "metadata": {},
   "outputs": [],
   "source": [
    "plt.plot(data_x, data_y, '.')\n",
    "for n in [0, 1, 2, 3, 4]:\n",
    "    sol = minimize(loss, np.zeros(n+1))\n",
    "    theta = sol.x\n",
    "    plt.plot(x, f(x, theta));"
   ]
  },
  {
   "cell_type": "markdown",
   "id": "448d7d81",
   "metadata": {},
   "source": [
    "**Q6**: Where is the quadratic solution? (hint, try adding a legend)"
   ]
  },
  {
   "cell_type": "markdown",
   "id": "d7feb4ea",
   "metadata": {},
   "source": [
    "**Q7:** What's goes wrong with the following?"
   ]
  },
  {
   "cell_type": "code",
   "execution_count": null,
   "id": "3bfa592e",
   "metadata": {},
   "outputs": [],
   "source": [
    "plt.plot(data_x, data_y, '.')\n",
    "sol = minimize(loss, np.zeros(10))\n",
    "theta = sol.x\n",
    "plt.plot(x, f(x, theta));"
   ]
  },
  {
   "cell_type": "markdown",
   "id": "24c4afd0",
   "metadata": {},
   "source": [
    "**Q8:** Plot the loss as a function of `n`\n",
    " **Q9:** How could we go about choosing n? Programme something if you have time"
   ]
  },
  {
   "cell_type": "markdown",
   "id": "5d113fee",
   "metadata": {},
   "source": [
    "This dataset was generated with the code below.\n",
    " \n",
    " Try modifying the data and see how these observations change"
   ]
  },
  {
   "cell_type": "code",
   "execution_count": null,
   "id": "c8904c9c",
   "metadata": {},
   "outputs": [],
   "source": [
    "np.random.seed(0)\n",
    "x = np.random.uniform(-1,3,50)\n",
    "y = 1 + (x-1)**3 -(x-1)\n",
    "y += np.random.randn(len(y))\n",
    "np.savetxt('example_1_data.csv', np.array([x, y]).T)"
   ]
  },
  {
   "cell_type": "markdown",
   "id": "a2b8bdad",
   "metadata": {},
   "source": [
    "# BREAK\n",
    " \n",
    " ***"
   ]
  },
  {
   "cell_type": "markdown",
   "id": "c5905157",
   "metadata": {},
   "source": [
    "# Example 2: Machine Learning with scikit learn\n",
    " \n",
    " https://www.kaggle.com/datasets/emmanuelfwerr/london-weather-data\n",
    "\n",
    " Can we predict the rain in London?"
   ]
  },
  {
   "cell_type": "markdown",
   "id": "33a7ed9a",
   "metadata": {},
   "source": [
    "## Exploring the data and showcasing pandas\n",
    " First import the data raw as downloaded from kaggle"
   ]
  },
  {
   "cell_type": "code",
   "execution_count": null,
   "id": "c2ed81b1",
   "metadata": {},
   "outputs": [],
   "source": [
    "import pandas as pd\n",
    "data = pd.read_csv('london_weather.csv')\n",
    "data.head()"
   ]
  },
  {
   "cell_type": "markdown",
   "id": "7868b268",
   "metadata": {},
   "source": [
    "We can also get some broad info, which is useful to show us how many non-null values there are"
   ]
  },
  {
   "cell_type": "code",
   "execution_count": null,
   "id": "9d921a8a",
   "metadata": {},
   "outputs": [],
   "source": [
    "data.info()"
   ]
  },
  {
   "cell_type": "markdown",
   "id": "7c01965a",
   "metadata": {},
   "source": [
    "The pandas describe method is useful for getting a quick overview of the stastistics of the data"
   ]
  },
  {
   "cell_type": "code",
   "execution_count": null,
   "id": "fe27d743",
   "metadata": {},
   "outputs": [],
   "source": [
    "data.describe()"
   ]
  },
  {
   "cell_type": "markdown",
   "id": "d948b450",
   "metadata": {},
   "source": [
    "Note that the counts don't agree -- this is due to missing data, mostly in the snow_depth\n",
    " Let's drop them."
   ]
  },
  {
   "cell_type": "code",
   "execution_count": null,
   "id": "668a5c0b",
   "metadata": {},
   "outputs": [],
   "source": [
    "data.dropna(inplace=True)"
   ]
  },
  {
   "cell_type": "markdown",
   "id": "7ca63d11",
   "metadata": {},
   "source": [
    "We could also have also used an imputer to fill it with the median\n",
    " **(Optional exercise)**\n",
    "\n",
    "`from sklearn.impute import SimpleImputer`"
   ]
  },
  {
   "cell_type": "markdown",
   "id": "c81e11e3",
   "metadata": {},
   "source": [
    "The pandas hist methoda is a useful tool for showing an overview of the shape of the data (useful for eyeballing distributions & scales"
   ]
  },
  {
   "cell_type": "code",
   "execution_count": null,
   "id": "f3f05e65",
   "metadata": {},
   "outputs": [],
   "source": [
    "data.hist();"
   ]
  },
  {
   "cell_type": "markdown",
   "id": "2e5710d3",
   "metadata": {},
   "source": [
    "Now look into correlations"
   ]
  },
  {
   "cell_type": "code",
   "execution_count": null,
   "id": "89652aab",
   "metadata": {},
   "outputs": [],
   "source": [
    "corr_matrix = data.corr()\n",
    "corr_matrix['sunshine'].sort_values(ascending=False)"
   ]
  },
  {
   "cell_type": "markdown",
   "id": "23330b09",
   "metadata": {},
   "source": [
    "Unsurprisingly sunshine correlates with temperatures and pressures, and\n",
    " anticorrelates with rain and cloud cover"
   ]
  },
  {
   "cell_type": "markdown",
   "id": "7c9b6a72",
   "metadata": {},
   "source": [
    "We can also plot the full scatter matrix, which is much more involved,\n",
    " showing the scatter plots of pairwise parameters. Note that down the\n",
    " diagonal it shows the histograms as before"
   ]
  },
  {
   "cell_type": "code",
   "execution_count": null,
   "id": "9b10f33f",
   "metadata": {},
   "outputs": [],
   "source": [
    "pd.plotting.scatter_matrix(data);"
   ]
  },
  {
   "cell_type": "markdown",
   "id": "6e1a93d5",
   "metadata": {},
   "source": [
    "It's also relatively easy to define new variables in pandas, e.g. an integer detailing the month. Here we use the `to_datetime` functionality to convert to a column of datetimes, and the pandas `.dt.month` operation to extract the month."
   ]
  },
  {
   "cell_type": "code",
   "execution_count": null,
   "id": "db17b09a",
   "metadata": {},
   "outputs": [],
   "source": [
    "data['month'] = pd.to_datetime(data.date, format='%Y%m%d').dt.month\n",
    "corr_matrix = data.corr()\n",
    "corr_matrix['precipitation'].sort_values(ascending=False)"
   ]
  },
  {
   "cell_type": "markdown",
   "id": "50f6096a",
   "metadata": {},
   "source": [
    "Surprising -- quite weak correlations... but!"
   ]
  },
  {
   "cell_type": "code",
   "execution_count": null,
   "id": "c44c9f8f",
   "metadata": {},
   "outputs": [],
   "source": [
    "pd.plotting.scatter_matrix(data);"
   ]
  },
  {
   "cell_type": "markdown",
   "id": "7abd12e9",
   "metadata": {},
   "source": [
    "It's a non-linear relationship with month. Let's drop it for now"
   ]
  },
  {
   "cell_type": "code",
   "execution_count": null,
   "id": "fa6eafc5",
   "metadata": {},
   "outputs": [],
   "source": [
    "data.drop(columns='month', inplace=True)"
   ]
  },
  {
   "cell_type": "markdown",
   "id": "de087015",
   "metadata": {},
   "source": [
    "## Showcasing scikit-learn\n",
    " Let's start by trying to predict the amount of temperature"
   ]
  },
  {
   "cell_type": "code",
   "execution_count": null,
   "id": "70889fd2",
   "metadata": {},
   "outputs": [],
   "source": [
    "y = data['sunshine']\n",
    "X = data.drop(columns=['sunshine'])"
   ]
  },
  {
   "cell_type": "markdown",
   "id": "dbe388b3",
   "metadata": {},
   "source": [
    "Split into training and testing data using the scikit learn function\n",
    "\n",
    " **(Optional Exercise)**: Look into using sklearn.model_selection.StratifiedShuffleSplit"
   ]
  },
  {
   "cell_type": "code",
   "execution_count": null,
   "id": "a56a88d3",
   "metadata": {},
   "outputs": [],
   "source": [
    "from sklearn.model_selection import train_test_split\n",
    "X_train, X_test, y_train, y_test = train_test_split(X, y, test_size=0.2, random_state=42)"
   ]
  },
  {
   "cell_type": "markdown",
   "id": "b5126491",
   "metadata": {},
   "source": [
    "Now we need to standardise the data by zero meaning and scaling to unit variance. Other options include `MaxMinScaler`, as well as custom transformations. Look into `sklearn.compose.CoumnTransformer`."
   ]
  },
  {
   "cell_type": "code",
   "execution_count": null,
   "id": "061a4bcb",
   "metadata": {},
   "outputs": [],
   "source": [
    "from sklearn.pipeline import Pipeline\n",
    "from sklearn.preprocessing import StandardScaler\n",
    "\n",
    "pipeline = StandardScaler()\n",
    "pipeline.fit(X_train)\n",
    "X_trans = pipeline.transform(X_train)"
   ]
  },
  {
   "cell_type": "markdown",
   "id": "7daea719",
   "metadata": {},
   "source": [
    "Could also run `X_trans = pipeline.fit_transform(X_train)`  to 'fit' the pipeline and and scale the data simultaneously\n",
    "\n",
    " Now let's train a model!\n",
    "\n",
    " Start with something embarrassingly simple -- linear regression"
   ]
  },
  {
   "cell_type": "code",
   "execution_count": null,
   "id": "dad6f9bb",
   "metadata": {},
   "outputs": [],
   "source": [
    "from sklearn.linear_model import LinearRegression\n",
    "lin_reg = LinearRegression()\n",
    "lin_reg.fit(X_trans, y_train)"
   ]
  },
  {
   "cell_type": "markdown",
   "id": "2849692e",
   "metadata": {},
   "source": [
    "Done! Now let's test the predictions on the _training_ set (i.e. how well it has done in-sample):"
   ]
  },
  {
   "cell_type": "code",
   "execution_count": null,
   "id": "b39d5235",
   "metadata": {},
   "outputs": [],
   "source": [
    "from sklearn.metrics import mean_squared_error\n",
    "import numpy as np\n",
    "y_pred = lin_reg.predict(X_trans)\n",
    "np.sqrt(mean_squared_error(y_train, y_pred))"
   ]
  },
  {
   "cell_type": "markdown",
   "id": "c6d83e04",
   "metadata": {},
   "source": [
    "Well that's only OK when compared to the spread in y itself:"
   ]
  },
  {
   "cell_type": "code",
   "execution_count": null,
   "id": "616ff6b1",
   "metadata": {},
   "outputs": [],
   "source": [
    "y_train.std()"
   ]
  },
  {
   "cell_type": "markdown",
   "id": "d4d13608",
   "metadata": {},
   "source": [
    "A scatter plot of predictions is also not great"
   ]
  },
  {
   "cell_type": "code",
   "execution_count": null,
   "id": "22bf5378",
   "metadata": {},
   "outputs": [],
   "source": [
    "import matplotlib.pyplot as plt\n",
    "plt.scatter(y_train, y_pred);"
   ]
  },
  {
   "cell_type": "markdown",
   "id": "9f83e4f7",
   "metadata": {},
   "source": [
    "We're clearly doing something though!\n",
    " Let's try something different -- a decision tree"
   ]
  },
  {
   "cell_type": "code",
   "execution_count": null,
   "id": "424c2b9a",
   "metadata": {},
   "outputs": [],
   "source": [
    "from sklearn.tree import DecisionTreeRegressor\n",
    "\n",
    "tree_reg = DecisionTreeRegressor()\n",
    "tree_reg.fit(X_trans, y_train)\n",
    "y_pred = tree_reg.predict(X_trans)\n",
    "np.sqrt(mean_squared_error(y_train, y_pred))"
   ]
  },
  {
   "cell_type": "markdown",
   "id": "2b3fcd5f",
   "metadata": {},
   "source": [
    "Well that seem fishy..."
   ]
  },
  {
   "cell_type": "code",
   "execution_count": null,
   "id": "80221956",
   "metadata": {},
   "outputs": [],
   "source": [
    "plt.scatter(y_train, y_pred);"
   ]
  },
  {
   "cell_type": "markdown",
   "id": "c5ac02aa",
   "metadata": {},
   "source": [
    "This is almost certainly an example of overfitting. At this point we would be tempted to look at the testing data, but it is better to hold that back until later.\n",
    " Let's try some cross-validation"
   ]
  },
  {
   "cell_type": "code",
   "execution_count": null,
   "id": "6c0b2b35",
   "metadata": {},
   "outputs": [],
   "source": [
    "from sklearn.model_selection import cross_val_score\n",
    "\n",
    "scores = cross_val_score(tree_reg, X_trans, y_train, cv=10, scoring=\"neg_mean_squared_error\")\n",
    "np.sqrt(-scores)"
   ]
  },
  {
   "cell_type": "markdown",
   "id": "93848ba4",
   "metadata": {},
   "source": [
    "So out-of-sample apparently worse than the linear regression -- let's check for sure"
   ]
  },
  {
   "cell_type": "code",
   "execution_count": null,
   "id": "31008d4d",
   "metadata": {},
   "outputs": [],
   "source": [
    "scores = cross_val_score(lin_reg, X_trans, y_train, cv=10, scoring=\"neg_mean_squared_error\")\n",
    "np.sqrt(-scores)"
   ]
  },
  {
   "cell_type": "markdown",
   "id": "120241bd",
   "metadata": {},
   "source": [
    "Let's try a `RandomForestRegressor` --  tthis is effectively a stack of decision trees"
   ]
  },
  {
   "cell_type": "code",
   "execution_count": null,
   "id": "77bc21af",
   "metadata": {},
   "outputs": [],
   "source": [
    "from sklearn.ensemble import RandomForestRegressor\n",
    "\n",
    "forest_reg = RandomForestRegressor()\n",
    "forest_reg.fit(X_trans, y_train)\n",
    "y_pred = forest_reg.predict(X_trans)\n",
    "np.sqrt(mean_squared_error(y_train, y_pred))"
   ]
  },
  {
   "cell_type": "markdown",
   "id": "d2054a87",
   "metadata": {},
   "source": [
    "Seems reasonable."
   ]
  },
  {
   "cell_type": "code",
   "execution_count": null,
   "id": "dab36892",
   "metadata": {},
   "outputs": [],
   "source": [
    "plt.scatter(y_train, y_pred);"
   ]
  },
  {
   "cell_type": "markdown",
   "id": "5295fbce",
   "metadata": {},
   "source": [
    "Out of sample?"
   ]
  },
  {
   "cell_type": "code",
   "execution_count": null,
   "id": "65833642",
   "metadata": {},
   "outputs": [],
   "source": [
    "scores = cross_val_score(forest_reg, X_trans, y_train, cv=10, scoring=\"neg_mean_squared_error\")\n",
    "np.sqrt(-scores)"
   ]
  },
  {
   "cell_type": "markdown",
   "id": "c0a30056",
   "metadata": {},
   "source": [
    "So slightly better than the linear regression, and clearly overfit in sample"
   ]
  },
  {
   "cell_type": "markdown",
   "id": "a423f0ef",
   "metadata": {},
   "source": [
    "To tune the hyperparameters we can run a grid search over the hyperparameters for the `RandomForestRegressor`"
   ]
  },
  {
   "cell_type": "code",
   "execution_count": null,
   "id": "73357ddb",
   "metadata": {},
   "outputs": [],
   "source": [
    "from sklearn.model_selection import GridSearchCV\n",
    "param_grid = [\n",
    "        {'n_estimators': [3, 10, 30], 'max_features': [2, 4, 6, 8]},\n",
    "        {'bootstrap': [False], 'n_estimators': [3, 10], 'max_features': [2, 3, 4]},\n",
    "        ]\n",
    "forest_reg = RandomForestRegressor()\n",
    "grid_search = GridSearchCV(forest_reg, param_grid, cv=5,\n",
    "                           scoring='neg_mean_squared_error',\n",
    "                           return_train_score=True)\n",
    "grid_search.fit(X_trans, y_train)"
   ]
  },
  {
   "cell_type": "markdown",
   "id": "98c5de68",
   "metadata": {},
   "source": [
    "We can get the best params as an attribute"
   ]
  },
  {
   "cell_type": "code",
   "execution_count": null,
   "id": "34bdca05",
   "metadata": {},
   "outputs": [],
   "source": [
    "grid_search.best_params_"
   ]
  },
  {
   "cell_type": "markdown",
   "id": "9842a101",
   "metadata": {},
   "source": [
    "and the best model"
   ]
  },
  {
   "cell_type": "code",
   "execution_count": null,
   "id": "e6f2d6b8",
   "metadata": {},
   "outputs": [],
   "source": [
    "grid_search.best_estimator_"
   ]
  },
  {
   "cell_type": "markdown",
   "id": "1d675277",
   "metadata": {},
   "source": [
    "As well as the total grid of results"
   ]
  },
  {
   "cell_type": "code",
   "execution_count": null,
   "id": "7503b9d5",
   "metadata": {},
   "outputs": [],
   "source": [
    "for mean_score, params in zip(grid_search.cv_results_[\"mean_test_score\"], grid_search.cv_results_[\"params\"]):\n",
    "    print(np.sqrt(-mean_score), params)"
   ]
  },
  {
   "cell_type": "markdown",
   "id": "c7ee8752",
   "metadata": {},
   "source": [
    "Also useful to look at which features are the most important"
   ]
  },
  {
   "cell_type": "code",
   "execution_count": null,
   "id": "414c752a",
   "metadata": {},
   "outputs": [],
   "source": [
    "for feature, importance in zip(X_train.columns, grid_search.best_estimator_.feature_importances_):\n",
    "    print(feature, importance)"
   ]
  },
  {
   "cell_type": "markdown",
   "id": "1703ec16",
   "metadata": {},
   "source": [
    "global radiation and cloud cover seem to be the most important."
   ]
  },
  {
   "cell_type": "markdown",
   "id": "fc9f542b",
   "metadata": {},
   "source": [
    "Now try it on the test set"
   ]
  },
  {
   "cell_type": "code",
   "execution_count": null,
   "id": "30d87396",
   "metadata": {},
   "outputs": [],
   "source": [
    "final_model = grid_search.best_estimator_\n",
    "\n",
    "X_trans = pipeline.transform(X_test)\n",
    "y_pred = final_model.predict(X_trans)\n",
    "\n",
    "plt.scatter(y_test, y_pred);"
   ]
  },
  {
   "cell_type": "markdown",
   "id": "d81b1c3e",
   "metadata": {},
   "source": [
    "Let's compare to lineara regression"
   ]
  },
  {
   "cell_type": "code",
   "execution_count": null,
   "id": "d2b7df6f",
   "metadata": {},
   "outputs": [],
   "source": [
    "plt.scatter(y_test, lin_reg.predict(X_trans));\n",
    "plt.scatter(y_test, tree_reg.predict(X_trans));"
   ]
  },
  {
   "cell_type": "markdown",
   "id": "ddea5b2c",
   "metadata": {},
   "source": [
    "Interestingly it seems that the main reason the tree does better is dealing with those outliers"
   ]
  },
  {
   "cell_type": "markdown",
   "id": "37ceee41",
   "metadata": {},
   "source": [
    "Exercises:\n",
    " - **Q10** How do the above change if we try to predict rainfall? temperature?\n",
    " - **Q11** Are any other of the out-of-the-box methods any better?\n",
    " - **Q12** Do these results change if you add in any new features e.g. month/year?\n",
    " - **Q13** Try this analysis out using other datasets from kaggle?\n",
    " - **Q14** How do the results change if we remove those outliers?"
   ]
  },
  {
   "cell_type": "markdown",
   "id": "decf901c",
   "metadata": {},
   "source": [
    "# BREAK\n",
    " \n",
    " ***"
   ]
  },
  {
   "cell_type": "markdown",
   "id": "8e494a2d",
   "metadata": {},
   "source": [
    "# Example 3: Neural network training\n",
    "\n",
    " ## Keras TensorFlow sequential API\n",
    " Let's specify an anatomy"
   ]
  },
  {
   "cell_type": "code",
   "execution_count": null,
   "id": "9cb60ca8",
   "metadata": {},
   "outputs": [],
   "source": [
    "from tensorflow import keras\n",
    "model = keras.models.Sequential()\n",
    "\n",
    "model.add(keras.layers.Input(X.shape[-1]))\n",
    "model.add(keras.layers.Dense(30, activation=\"relu\"))\n",
    "model.add(keras.layers.Dense(30, activation=\"relu\"))\n",
    "model.add(keras.layers.Dense(30, activation=\"relu\"))\n",
    "model.add(keras.layers.Dense(1, activation=\"softplus\"))"
   ]
  },
  {
   "cell_type": "markdown",
   "id": "7bb3fe02",
   "metadata": {},
   "source": [
    "Alternatively we can do it in one go\n",
    "```\n",
    "model = keras.models.Sequential([\n",
    "    keras.layers.Input(X.shape[-1]),\n",
    "    keras.layers.Dense(30, activation=\"relu\"),\n",
    "    keras.layers.Dense(30, activation=\"relu\"),\n",
    "    keras.layers.Dense(1, activation=\"softplus\") \n",
    "    ])\n",
    "```"
   ]
  },
  {
   "cell_type": "markdown",
   "id": "795aad82",
   "metadata": {},
   "source": [
    "Inspect the model"
   ]
  },
  {
   "cell_type": "code",
   "execution_count": null,
   "id": "e9536f56",
   "metadata": {},
   "outputs": [],
   "source": [
    "model.summary()\n",
    "\n",
    "model.summary()"
   ]
  },
  {
   "cell_type": "markdown",
   "id": "31cdd0b5",
   "metadata": {},
   "source": [
    "Specify the model training procedures with 'compilation'"
   ]
  },
  {
   "cell_type": "code",
   "execution_count": null,
   "id": "9f27aa3a",
   "metadata": {},
   "outputs": [],
   "source": [
    "model.compile(loss=\"mean_squared_error\", optimizer=\"sgd\", metrics=[\"accuracy\"])"
   ]
  },
  {
   "cell_type": "markdown",
   "id": "dca3932f",
   "metadata": {},
   "source": [
    "Split into validation and testing using sklearn's `test_train_split` again"
   ]
  },
  {
   "cell_type": "code",
   "execution_count": null,
   "id": "3c21b1ac",
   "metadata": {},
   "outputs": [],
   "source": [
    "X_trans_, X_valid, y_train_, y_valid = train_test_split(pipeline.transform(X_train), y_train, test_size=0.2, random_state=43)"
   ]
  },
  {
   "cell_type": "markdown",
   "id": "1e1a5f28",
   "metadata": {},
   "source": [
    "Train!"
   ]
  },
  {
   "cell_type": "code",
   "execution_count": null,
   "id": "dac40673",
   "metadata": {},
   "outputs": [],
   "source": [
    "history = model.fit(X_trans_, y_train_, epochs=50, validation_data=(X_valid, y_valid))"
   ]
  },
  {
   "cell_type": "markdown",
   "id": "a9ed8fea",
   "metadata": {},
   "source": [
    "Plot the history"
   ]
  },
  {
   "cell_type": "code",
   "execution_count": null,
   "id": "504b5179",
   "metadata": {},
   "outputs": [],
   "source": [
    "pd.DataFrame(history.history).plot()"
   ]
  },
  {
   "cell_type": "markdown",
   "id": "dc0cf63d",
   "metadata": {},
   "source": [
    "Make predictions"
   ]
  },
  {
   "cell_type": "code",
   "execution_count": null,
   "id": "2ec516d3",
   "metadata": {},
   "outputs": [],
   "source": [
    "plt.scatter(y_test, lin_reg.predict(pipeline.transform(X_test)));\n",
    "plt.scatter(y_test, model.predict(pipeline.transform(X_test)));"
   ]
  },
  {
   "cell_type": "markdown",
   "id": "7ed3de1c",
   "metadata": {},
   "source": [
    "## Keras TensorFlow functional API\n",
    " Now let's look at the functional API, implemented for a non-sequential 'wide and deep' network"
   ]
  },
  {
   "cell_type": "code",
   "execution_count": null,
   "id": "a055b651",
   "metadata": {},
   "outputs": [],
   "source": [
    "input = keras.layers.Input(X.shape[-1])\n",
    "hidden1 = keras.layers.Dense(30, activation=\"relu\")(input)\n",
    "hidden2 = keras.layers.Dense(30, activation=\"relu\")(hidden1)\n",
    "concat = keras.layers.Concatenate()([input, hidden2])\n",
    "output = keras.layers.Dense(1, activation=\"softplus\")(concat)\n",
    "\n",
    "model = keras.models.Model(inputs=[input], outputs=[output])"
   ]
  },
  {
   "cell_type": "markdown",
   "id": "fb07aa36",
   "metadata": {},
   "source": [
    "Now let's fit it"
   ]
  },
  {
   "cell_type": "code",
   "execution_count": null,
   "id": "9165d7ad",
   "metadata": {},
   "outputs": [],
   "source": [
    "model.compile(loss=\"mean_squared_error\", optimizer=\"sgd\", metrics=[\"accuracy\"])\n",
    "history = model.fit(X_trans_, y_train_, epochs=50, validation_data=(X_valid, y_valid))\n",
    "            \n",
    "pd.DataFrame(history.history).plot()"
   ]
  },
  {
   "cell_type": "markdown",
   "id": "3f9eade7",
   "metadata": {},
   "source": [
    "Make predictions"
   ]
  },
  {
   "cell_type": "code",
   "execution_count": null,
   "id": "cd299dba",
   "metadata": {},
   "outputs": [],
   "source": [
    "plt.scatter(y_test, lin_reg.predict(pipeline.transform(X_test)));\n",
    "plt.scatter(y_test, model.predict(pipeline.transform(X_test)));"
   ]
  },
  {
   "cell_type": "markdown",
   "id": "eb9fadb2",
   "metadata": {},
   "source": [
    "## Keras TensorFlow Subclssing API\n",
    " This is useful for dynamic models. Here we implement the same 'wide and deep' network as above, but in principle this could change dynamically according to input"
   ]
  },
  {
   "cell_type": "code",
   "execution_count": null,
   "id": "3d15dd77",
   "metadata": {},
   "outputs": [],
   "source": [
    "class WideAndDeepModel(keras.models.Model):\n",
    "    def __init__(self, units=30, activation=\"relu\", **kwargs):\n",
    "        super().__init__(**kwargs)\n",
    "        self.hidden1 = keras.layers.Dense(units, activation=activation)\n",
    "        self.hidden2 = keras.layers.Dense(units, activation=activation)\n",
    "        self.output_ = keras.layers.Dense(1, activation=\"softplus\")\n",
    "\n",
    "    def call(self, input):\n",
    "        hidden1 = self.hidden1(input)\n",
    "        hidden2 = self.hidden2(hidden1)\n",
    "        concat = keras.layers.Concatenate()([input, hidden2])\n",
    "        output = self.output_(concat)\n",
    "        return output"
   ]
  },
  {
   "cell_type": "markdown",
   "id": "e45e8e17",
   "metadata": {},
   "source": [
    "We define `model_` rather than `model` purely because we wish to return to the previous model earlier (subclassed models are more restrictive than functional or sequential models)."
   ]
  },
  {
   "cell_type": "code",
   "execution_count": null,
   "id": "8fef955c",
   "metadata": {},
   "outputs": [],
   "source": [
    "model_ = WideAndDeepModel()\n",
    "model_.compile(loss=\"mean_squared_error\", optimizer=\"sgd\", metrics=[\"accuracy\"])\n",
    "history = model_.fit(X_trans_, y_train_, epochs=50, validation_data=(X_valid, y_valid))"
   ]
  },
  {
   "cell_type": "markdown",
   "id": "f3a90fb7",
   "metadata": {},
   "source": [
    "We can inspect any weights we choose"
   ]
  },
  {
   "cell_type": "code",
   "execution_count": null,
   "id": "8be0c429",
   "metadata": {},
   "outputs": [],
   "source": [
    "weights, biases = model.get_layer('dense_4').get_weights()\n",
    "weights"
   ]
  },
  {
   "cell_type": "markdown",
   "id": "cfbb8a3d",
   "metadata": {},
   "source": [
    "Saving and restoring"
   ]
  },
  {
   "cell_type": "code",
   "execution_count": null,
   "id": "f64b5e9d",
   "metadata": {},
   "outputs": [],
   "source": [
    "model.save(\"my_keras_model.h5\")"
   ]
  },
  {
   "cell_type": "markdown",
   "id": "1261575d",
   "metadata": {},
   "source": [
    "Tasks\n",
    " - **Q15** Make a more systematic comparison of all the methods losses\n",
    " - **Q15** Explore changing the neural network architectures/training mechanisms"
   ]
  },
  {
   "cell_type": "markdown",
   "id": "00398757",
   "metadata": {},
   "source": [
    "## PyTorch"
   ]
  },
  {
   "cell_type": "markdown",
   "id": "5bf9033f",
   "metadata": {},
   "source": [
    "Define a sequential model for now"
   ]
  },
  {
   "cell_type": "code",
   "execution_count": null,
   "id": "23dfa338",
   "metadata": {},
   "outputs": [],
   "source": [
    "import torch\n",
    "\n",
    "model = torch.nn.Sequential(\n",
    "    torch.nn.Linear(X.shape[-1],30),\n",
    "    torch.nn.ReLU(),\n",
    "    torch.nn.Linear(30,30),\n",
    "    torch.nn.ReLU(), \n",
    "    torch.nn.Linear(30,1),\n",
    "    torch.nn.Softplus(), \n",
    "    )"
   ]
  },
  {
   "cell_type": "markdown",
   "id": "b3f66002",
   "metadata": {},
   "source": [
    "Define a mean square error loss function"
   ]
  },
  {
   "cell_type": "code",
   "execution_count": null,
   "id": "2a63e652",
   "metadata": {},
   "outputs": [],
   "source": [
    "loss_fn = torch.nn.MSELoss()"
   ]
  },
  {
   "cell_type": "markdown",
   "id": "f13d6c43",
   "metadata": {},
   "source": [
    "Define a stochastic gradient descent optimiser with learning rate 1e-3"
   ]
  },
  {
   "cell_type": "code",
   "execution_count": null,
   "id": "c1319280",
   "metadata": {},
   "outputs": [],
   "source": [
    "optimizer = torch.optim.SGD(model.parameters(), lr=0.001)"
   ]
  },
  {
   "cell_type": "markdown",
   "id": "699aaae4",
   "metadata": {},
   "source": [
    "(slightly verbose) mechanism for passing training data into a format that pytorch can understand."
   ]
  },
  {
   "cell_type": "code",
   "execution_count": null,
   "id": "6ff75a7c",
   "metadata": {},
   "outputs": [],
   "source": [
    "train_dataloader = torch.utils.data.DataLoader(torch.utils.data.TensorDataset(torch.tensor(X_trans_).float(), torch.tensor(y_train_.values).float()), batch_size=32)\n",
    "valid_dataloader = torch.utils.data.DataLoader(torch.utils.data.TensorDataset(torch.tensor(X_valid).float(), torch.tensor(y_valid.values).float()), batch_size=32)"
   ]
  },
  {
   "cell_type": "markdown",
   "id": "0763e105",
   "metadata": {},
   "source": [
    "The meat of the code -- train! (will discuss)"
   ]
  },
  {
   "cell_type": "code",
   "execution_count": null,
   "id": "980f5bc2",
   "metadata": {},
   "outputs": [],
   "source": [
    "for _ in range(50):\n",
    "\n",
    "    sum_train_loss = 0\n",
    "    for x_batch, y_batch in train_dataloader:\n",
    "        pred = model(x_batch)[:, 0]\n",
    "        loss = loss_fn(pred, y_batch)\n",
    "        loss.backward()\n",
    "        optimizer.step()\n",
    "        optimizer.zero_grad()\n",
    "        sum_train_loss += loss.item()\n",
    "\n",
    "    sum_valid_loss = 0\n",
    "    with torch.no_grad():\n",
    "        for x_batch, y_batch in valid_dataloader:\n",
    "            pred = model(x_batch)[:, 0] \n",
    "            loss = loss_fn(pred, y_batch)\n",
    "            sum_valid_loss += loss.item()\n",
    "\n",
    "    print(\"Loss: (%.2f, %.2f)\" % (sum_train_loss/len(train_dataloader),\n",
    "                                  sum_valid_loss/len(valid_dataloader)))"
   ]
  },
  {
   "cell_type": "markdown",
   "id": "c7545e45",
   "metadata": {},
   "source": [
    "Plot the predictions"
   ]
  },
  {
   "cell_type": "code",
   "execution_count": null,
   "id": "91dd4699",
   "metadata": {},
   "outputs": [],
   "source": [
    "y_pred = model(torch.from_numpy(pipeline.transform(X_test)).float()).detach().numpy()\n",
    "plt.scatter(y_test, y_pred);"
   ]
  },
  {
   "cell_type": "markdown",
   "id": "93cdff69",
   "metadata": {},
   "source": [
    "Tasks\n",
    " - **Q16** Compare and contrast the pytorch approach vs the keras approach. Which do you prefer?"
   ]
  }
 ],
 "metadata": {},
 "nbformat": 4,
 "nbformat_minor": 5
}
