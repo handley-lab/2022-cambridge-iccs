{
 "cells": [
  {
   "cell_type": "markdown",
   "id": "14aeaef8",
   "metadata": {},
   "source": [
    "# Example 1: Introduction to regression\n",
    "\n",
    " This notebook is designed to introduce the basic concepts of training models\n",
    " using the numpy and scipy libraries alone."
   ]
  },
  {
   "cell_type": "markdown",
   "id": "3195c77c",
   "metadata": {},
   "source": [
    "Import the key libraries and functions."
   ]
  },
  {
   "cell_type": "code",
   "execution_count": null,
   "id": "24ba6d76",
   "metadata": {},
   "outputs": [],
   "source": [
    "import numpy as np"
   ]
  },
  {
   "cell_type": "markdown",
   "id": "1a2cacac",
   "metadata": {},
   "source": [
    "Load the data."
   ]
  },
  {
   "cell_type": "code",
   "execution_count": null,
   "id": "2a37c980",
   "metadata": {},
   "outputs": [],
   "source": [
    "data_x, data_y = np.loadtxt('example_1_data.csv').T"
   ]
  },
  {
   "cell_type": "markdown",
   "id": "df220191",
   "metadata": {},
   "source": [
    "Plot the data"
   ]
  },
  {
   "cell_type": "code",
   "execution_count": null,
   "id": "981c2a57",
   "metadata": {},
   "outputs": [],
   "source": [
    "import matplotlib.pyplot as plt\n",
    "plt.plot(data_x, data_y, '.');"
   ]
  },
  {
   "cell_type": "markdown",
   "id": "6e000bd3",
   "metadata": {},
   "source": [
    "Define our model function"
   ]
  },
  {
   "cell_type": "code",
   "execution_count": null,
   "id": "b0da8b6b",
   "metadata": {},
   "outputs": [],
   "source": [
    "def f(x, theta):\n",
    "    i = np.arange(len(theta))\n",
    "    x = np.array(x)\n",
    "    return (theta * x[..., None]**i).sum(axis=-1)"
   ]
  },
  {
   "cell_type": "markdown",
   "id": "f72953e9",
   "metadata": {},
   "source": [
    "- **Q1**: What does the `f` define?\n",
    "- **Q2**: What does `None` slicing do?\n",
    "- **Q3**: Why choose `...` rather than `:`?\n",
    "- **Q4**: Why is `axis=-1` essential to the above?\n",
    "- **(Optional exercise)**: Are you able to extend the above to `theta`?"
   ]
  },
  {
   "cell_type": "markdown",
   "id": "bfb1f4db",
   "metadata": {},
   "source": [
    "Now fit the model to the data by minimising a loss function"
   ]
  },
  {
   "cell_type": "code",
   "execution_count": null,
   "id": "81e5cc7c",
   "metadata": {},
   "outputs": [],
   "source": [
    "from scipy.optimize import minimize\n",
    "\n",
    "def loss(theta):\n",
    "    return ((f(data_x, theta) - data_y)**2).sum()\n",
    "\n",
    "theta0 = np.zeros(4)\n",
    "sol = minimize(loss, theta0)"
   ]
  },
  {
   "cell_type": "markdown",
   "id": "65e7a018",
   "metadata": {},
   "source": [
    "- **Q5**: \n",
    " Plot the solution"
   ]
  },
  {
   "cell_type": "code",
   "execution_count": null,
   "id": "21d32cc9",
   "metadata": {},
   "outputs": [],
   "source": [
    "theta = sol.x\n",
    "plt.plot(data_x, data_y, '.')\n",
    "x = np.linspace(-1,3,1001)\n",
    "plt.plot(x, f(x, theta));"
   ]
  },
  {
   "cell_type": "markdown",
   "id": "2ff943bb",
   "metadata": {},
   "source": [
    "Consider models of increasing complexity"
   ]
  },
  {
   "cell_type": "code",
   "execution_count": null,
   "id": "8b7aac94",
   "metadata": {},
   "outputs": [],
   "source": [
    "plt.plot(data_x, data_y, '.')\n",
    "for n in [0, 1, 2, 3, 4]:\n",
    "    sol = minimize(loss, np.zeros(n+1))\n",
    "    theta = sol.x\n",
    "    plt.plot(x, f(x, theta));"
   ]
  },
  {
   "cell_type": "markdown",
   "id": "9a24c48c",
   "metadata": {},
   "source": [
    "**Q6**: Where is the quadratic solution? (hint, try adding a legend)"
   ]
  },
  {
   "cell_type": "markdown",
   "id": "f5a5275a",
   "metadata": {},
   "source": [
    "**Q7:** What's goes wrong with the following?"
   ]
  },
  {
   "cell_type": "code",
   "execution_count": null,
   "id": "6f3aee54",
   "metadata": {},
   "outputs": [],
   "source": [
    "plt.plot(data_x, data_y, '.')\n",
    "sol = minimize(loss, np.zeros(10))\n",
    "theta = sol.x\n",
    "plt.plot(x, f(x, theta));"
   ]
  },
  {
   "cell_type": "markdown",
   "id": "e951f124",
   "metadata": {},
   "source": [
    "**Q8:** Plot the loss as a function of `n`\n",
    " **Q9:** How could we go about choosing n? Programme something if you have time"
   ]
  },
  {
   "cell_type": "markdown",
   "id": "50dfd575",
   "metadata": {},
   "source": [
    "This dataset was generated with the code below.\n",
    " \n",
    " Try modifying the data and see how these observations change"
   ]
  },
  {
   "cell_type": "code",
   "execution_count": null,
   "id": "27473811",
   "metadata": {},
   "outputs": [],
   "source": [
    "np.random.seed(0)\n",
    "x = np.random.uniform(-1,3,50)\n",
    "y = 1 + (x-1)**3 -(x-1)\n",
    "y += np.random.randn(len(y))\n",
    "np.savetxt('example_1_data.csv', np.array([x, y]).T)"
   ]
  },
  {
   "cell_type": "markdown",
   "id": "a7903090",
   "metadata": {},
   "source": [
    "# BREAK\n",
    " \n",
    " ***"
   ]
  },
  {
   "cell_type": "markdown",
   "id": "e310d6c6",
   "metadata": {},
   "source": [
    "# Example 2: Machine Learning with scikit learn\n",
    " \n",
    " https://www.kaggle.com/datasets/emmanuelfwerr/london-weather-data\n",
    "\n",
    " Can we predict the rain in London?"
   ]
  },
  {
   "cell_type": "markdown",
   "id": "78620b79",
   "metadata": {},
   "source": [
    "## Exploring the data and showcasing pandas\n",
    " First import the data raw as downloaded from kaggle"
   ]
  },
  {
   "cell_type": "code",
   "execution_count": null,
   "id": "f0dc2dfc",
   "metadata": {},
   "outputs": [],
   "source": [
    "import pandas as pd\n",
    "data = pd.read_csv('london_weather.csv')\n",
    "data.head()"
   ]
  },
  {
   "cell_type": "markdown",
   "id": "8f46145d",
   "metadata": {},
   "source": [
    "We can also get some broad info, which is useful to show us how many non-null values there are"
   ]
  },
  {
   "cell_type": "code",
   "execution_count": null,
   "id": "3b77817c",
   "metadata": {},
   "outputs": [],
   "source": [
    "data.info()"
   ]
  },
  {
   "cell_type": "markdown",
   "id": "8c63dbe4",
   "metadata": {},
   "source": [
    "The pandas describe method is useful for getting a quick overview of the stastistics of the data"
   ]
  },
  {
   "cell_type": "code",
   "execution_count": null,
   "id": "7d78166b",
   "metadata": {},
   "outputs": [],
   "source": [
    "data.describe()"
   ]
  },
  {
   "cell_type": "markdown",
   "id": "754c05a5",
   "metadata": {},
   "source": [
    "Note that the counts don't agree -- this is due to missing data, mostly in the snow_depth\n",
    " Let's drop them."
   ]
  },
  {
   "cell_type": "code",
   "execution_count": null,
   "id": "cc18d6e5",
   "metadata": {},
   "outputs": [],
   "source": [
    "data.dropna(inplace=True)"
   ]
  },
  {
   "cell_type": "markdown",
   "id": "3a9bd3fc",
   "metadata": {},
   "source": [
    "We could also have also used an imputer to fill it with the median\n",
    " **(Optional exercise)**\n",
    "\n",
    "`from sklearn.impute import SimpleImputer`"
   ]
  },
  {
   "cell_type": "markdown",
   "id": "91250f3c",
   "metadata": {},
   "source": [
    "The pandas hist methoda is a useful tool for showing an overview of the shape of the data (useful for eyeballing distributions & scales"
   ]
  },
  {
   "cell_type": "code",
   "execution_count": null,
   "id": "20fcd59c",
   "metadata": {},
   "outputs": [],
   "source": [
    "data.hist();"
   ]
  },
  {
   "cell_type": "markdown",
   "id": "644dee44",
   "metadata": {},
   "source": [
    "Now look into correlations"
   ]
  },
  {
   "cell_type": "code",
   "execution_count": null,
   "id": "3b099a0c",
   "metadata": {},
   "outputs": [],
   "source": [
    "corr_matrix = data.corr()\n",
    "corr_matrix['sunshine'].sort_values(ascending=False)"
   ]
  },
  {
   "cell_type": "markdown",
   "id": "ade7c9d7",
   "metadata": {},
   "source": [
    "Unsurprisingly sunshine correlates with temperatures and pressures, and\n",
    " anticorrelates with rain and cloud cover"
   ]
  },
  {
   "cell_type": "markdown",
   "id": "24a7e90a",
   "metadata": {},
   "source": [
    "We can also plot the full scatter matrix, which is much more involved,\n",
    " showing the scatter plots of pairwise parameters. Note that down the\n",
    " diagonal it shows the histograms as before"
   ]
  },
  {
   "cell_type": "code",
   "execution_count": null,
   "id": "38a9e8e7",
   "metadata": {},
   "outputs": [],
   "source": [
    "pd.plotting.scatter_matrix(data);"
   ]
  },
  {
   "cell_type": "markdown",
   "id": "b6a26eeb",
   "metadata": {},
   "source": [
    "It's also relatively easy to define new variables in pandas, e.g. an integer detailing the month. Here we use the `to_datetime` functionality to convert to a column of datetimes, and the pandas `.dt.month` operation to extract the month."
   ]
  },
  {
   "cell_type": "code",
   "execution_count": null,
   "id": "0d080a3c",
   "metadata": {},
   "outputs": [],
   "source": [
    "data['month'] = pd.to_datetime(data.date, format='%Y%m%d').dt.month\n",
    "corr_matrix = data.corr()\n",
    "corr_matrix['precipitation'].sort_values(ascending=False)"
   ]
  },
  {
   "cell_type": "markdown",
   "id": "1025c155",
   "metadata": {},
   "source": [
    "Surprising -- quite weak correlations... but!"
   ]
  },
  {
   "cell_type": "code",
   "execution_count": null,
   "id": "693396d5",
   "metadata": {},
   "outputs": [],
   "source": [
    "pd.plotting.scatter_matrix(data);"
   ]
  },
  {
   "cell_type": "markdown",
   "id": "8c56ae4f",
   "metadata": {},
   "source": [
    "It's a non-linear relationship with month. Let's drop it for now"
   ]
  },
  {
   "cell_type": "code",
   "execution_count": null,
   "id": "12ac1022",
   "metadata": {},
   "outputs": [],
   "source": [
    "data.drop(columns='month', inplace=True)"
   ]
  },
  {
   "cell_type": "markdown",
   "id": "8e537c1d",
   "metadata": {},
   "source": [
    "## Showcasing scikit-learn\n",
    " Let's start by trying to predict the amount of temperature"
   ]
  },
  {
   "cell_type": "code",
   "execution_count": null,
   "id": "37fed8e2",
   "metadata": {},
   "outputs": [],
   "source": [
    "y = data['sunshine']\n",
    "X = data.drop(columns=['sunshine'])"
   ]
  },
  {
   "cell_type": "markdown",
   "id": "ce5e4d6c",
   "metadata": {},
   "source": [
    "Split into training and testing data using the scikit learn function\n",
    "\n",
    " **(Optional Exercise)**: Look into using sklearn.model_selection.StratifiedShuffleSplit"
   ]
  },
  {
   "cell_type": "code",
   "execution_count": null,
   "id": "883b6a43",
   "metadata": {},
   "outputs": [],
   "source": [
    "from sklearn.model_selection import train_test_split\n",
    "X_train, X_test, y_train, y_test = train_test_split(X, y, test_size=0.2, random_state=42)"
   ]
  },
  {
   "cell_type": "markdown",
   "id": "9677e17d",
   "metadata": {},
   "source": [
    "Now we need to standardise the data by zero meaning and scaling to unit variance. Other options include `MaxMinScaler`, as well as custom transformations. Look into `sklearn.compose.CoumnTransformer`."
   ]
  },
  {
   "cell_type": "code",
   "execution_count": null,
   "id": "1dd3fe5b",
   "metadata": {},
   "outputs": [],
   "source": [
    "from sklearn.pipeline import Pipeline\n",
    "from sklearn.preprocessing import StandardScaler\n",
    "\n",
    "pipeline = StandardScaler()\n",
    "pipeline.fit(X_train)\n",
    "X_trans = pipeline.transform(X_train)"
   ]
  },
  {
   "cell_type": "markdown",
   "id": "35f6edf6",
   "metadata": {},
   "source": [
    "Could also run `X_trans = pipeline.fit_transform(X_train)`  to 'fit' the pipeline and and scale the data simultaneously\n",
    "\n",
    " Now let's train a model!\n",
    "\n",
    " Start with something embarrassingly simple -- linear regression"
   ]
  },
  {
   "cell_type": "code",
   "execution_count": null,
   "id": "4e04a872",
   "metadata": {},
   "outputs": [],
   "source": [
    "from sklearn.linear_model import LinearRegression\n",
    "lin_reg = LinearRegression()\n",
    "lin_reg.fit(X_trans, y_train)"
   ]
  },
  {
   "cell_type": "markdown",
   "id": "6faa7046",
   "metadata": {},
   "source": [
    "Done! Now let's test the predictions on the _training_ set (i.e. how well it has done in-sample):"
   ]
  },
  {
   "cell_type": "code",
   "execution_count": null,
   "id": "2dba3341",
   "metadata": {},
   "outputs": [],
   "source": [
    "from sklearn.metrics import mean_squared_error\n",
    "import numpy as np\n",
    "y_pred = lin_reg.predict(X_trans)\n",
    "np.sqrt(mean_squared_error(y_train, y_pred))"
   ]
  },
  {
   "cell_type": "markdown",
   "id": "6d096fab",
   "metadata": {},
   "source": [
    "Well that's only OK when compared to the spread in y itself:"
   ]
  },
  {
   "cell_type": "code",
   "execution_count": null,
   "id": "275bffbc",
   "metadata": {},
   "outputs": [],
   "source": [
    "y_train.std()"
   ]
  },
  {
   "cell_type": "markdown",
   "id": "a57334fb",
   "metadata": {},
   "source": [
    "A scatter plot of predictions is also not great"
   ]
  },
  {
   "cell_type": "code",
   "execution_count": null,
   "id": "71b11236",
   "metadata": {},
   "outputs": [],
   "source": [
    "import matplotlib.pyplot as plt\n",
    "plt.scatter(y_train, y_pred);"
   ]
  },
  {
   "cell_type": "markdown",
   "id": "668dbd61",
   "metadata": {},
   "source": [
    "We're clearly doing something though!\n",
    " Let's try something different -- a decision tree"
   ]
  },
  {
   "cell_type": "code",
   "execution_count": null,
   "id": "d8c07cf8",
   "metadata": {},
   "outputs": [],
   "source": [
    "from sklearn.tree import DecisionTreeRegressor\n",
    "\n",
    "tree_reg = DecisionTreeRegressor()\n",
    "tree_reg.fit(X_trans, y_train)\n",
    "y_pred = tree_reg.predict(X_trans)\n",
    "np.sqrt(mean_squared_error(y_train, y_pred))"
   ]
  },
  {
   "cell_type": "markdown",
   "id": "8c302221",
   "metadata": {},
   "source": [
    "Well that seem fishy..."
   ]
  },
  {
   "cell_type": "code",
   "execution_count": null,
   "id": "609bbca7",
   "metadata": {},
   "outputs": [],
   "source": [
    "plt.scatter(y_train, y_pred);"
   ]
  },
  {
   "cell_type": "markdown",
   "id": "1b34c77a",
   "metadata": {},
   "source": [
    "This is almost certainly an example of overfitting. At this point we would be tempted to look at the testing data, but it is better to hold that back until later.\n",
    " Let's try some cross-validation"
   ]
  },
  {
   "cell_type": "code",
   "execution_count": null,
   "id": "c5e3d1a2",
   "metadata": {},
   "outputs": [],
   "source": [
    "from sklearn.model_selection import cross_val_score\n",
    "\n",
    "scores = cross_val_score(tree_reg, X_trans, y_train, cv=10, scoring=\"neg_mean_squared_error\")\n",
    "np.sqrt(-scores)"
   ]
  },
  {
   "cell_type": "markdown",
   "id": "1bf557cf",
   "metadata": {},
   "source": [
    "So out-of-sample apparently worse than the linear regression -- let's check for sure"
   ]
  },
  {
   "cell_type": "code",
   "execution_count": null,
   "id": "de517c9c",
   "metadata": {},
   "outputs": [],
   "source": [
    "scores = cross_val_score(lin_reg, X_trans, y_train, cv=10, scoring=\"neg_mean_squared_error\")\n",
    "np.sqrt(-scores)"
   ]
  },
  {
   "cell_type": "markdown",
   "id": "773c8010",
   "metadata": {},
   "source": [
    "Let's try a `RandomForestRegressor` --  tthis is effectively a stack of decision trees"
   ]
  },
  {
   "cell_type": "code",
   "execution_count": null,
   "id": "4ca84331",
   "metadata": {},
   "outputs": [],
   "source": [
    "from sklearn.ensemble import RandomForestRegressor\n",
    "\n",
    "forest_reg = RandomForestRegressor()\n",
    "forest_reg.fit(X_trans, y_train)\n",
    "y_pred = forest_reg.predict(X_trans)\n",
    "np.sqrt(mean_squared_error(y_train, y_pred))"
   ]
  },
  {
   "cell_type": "markdown",
   "id": "df652303",
   "metadata": {},
   "source": [
    "Seems reasonable."
   ]
  },
  {
   "cell_type": "code",
   "execution_count": null,
   "id": "8f30c893",
   "metadata": {},
   "outputs": [],
   "source": [
    "plt.scatter(y_train, y_pred);"
   ]
  },
  {
   "cell_type": "markdown",
   "id": "4d1fcff5",
   "metadata": {},
   "source": [
    "Out of sample?"
   ]
  },
  {
   "cell_type": "code",
   "execution_count": null,
   "id": "cd05e600",
   "metadata": {},
   "outputs": [],
   "source": [
    "scores = cross_val_score(forest_reg, X_trans, y_train, cv=10, scoring=\"neg_mean_squared_error\")\n",
    "np.sqrt(-scores)"
   ]
  },
  {
   "cell_type": "markdown",
   "id": "dc1c3bce",
   "metadata": {},
   "source": [
    "So slightly better than the linear regression, and clearly overfit in sample"
   ]
  },
  {
   "cell_type": "markdown",
   "id": "d26ebb7f",
   "metadata": {},
   "source": [
    "To tune the hyperparameters we can run a grid search over the hyperparameters for the `RandomForestRegressor`"
   ]
  },
  {
   "cell_type": "code",
   "execution_count": null,
   "id": "e636c452",
   "metadata": {},
   "outputs": [],
   "source": [
    "from sklearn.model_selection import GridSearchCV\n",
    "param_grid = [\n",
    "        {'n_estimators': [3, 10, 30], 'max_features': [2, 4, 6, 8]},\n",
    "        {'bootstrap': [False], 'n_estimators': [3, 10], 'max_features': [2, 3, 4]},\n",
    "        ]\n",
    "forest_reg = RandomForestRegressor()\n",
    "grid_search = GridSearchCV(forest_reg, param_grid, cv=5,\n",
    "                           scoring='neg_mean_squared_error',\n",
    "                           return_train_score=True)\n",
    "grid_search.fit(X_trans, y_train)"
   ]
  },
  {
   "cell_type": "markdown",
   "id": "2b2f360f",
   "metadata": {},
   "source": [
    "We can get the best params as an attribute"
   ]
  },
  {
   "cell_type": "code",
   "execution_count": null,
   "id": "ffdb033f",
   "metadata": {},
   "outputs": [],
   "source": [
    "grid_search.best_params_"
   ]
  },
  {
   "cell_type": "markdown",
   "id": "fae8bf66",
   "metadata": {},
   "source": [
    "and the best model"
   ]
  },
  {
   "cell_type": "code",
   "execution_count": null,
   "id": "1eec383a",
   "metadata": {},
   "outputs": [],
   "source": [
    "grid_search.best_estimator_"
   ]
  },
  {
   "cell_type": "markdown",
   "id": "5a9a56c9",
   "metadata": {},
   "source": [
    "As well as the total grid of results"
   ]
  },
  {
   "cell_type": "code",
   "execution_count": null,
   "id": "2b697160",
   "metadata": {},
   "outputs": [],
   "source": [
    "for mean_score, params in zip(grid_search.cv_results_[\"mean_test_score\"], grid_search.cv_results_[\"params\"]):\n",
    "    print(np.sqrt(-mean_score), params)"
   ]
  },
  {
   "cell_type": "markdown",
   "id": "e4513067",
   "metadata": {},
   "source": [
    "Also useful to look at which features are the most important"
   ]
  },
  {
   "cell_type": "code",
   "execution_count": null,
   "id": "d9e73d08",
   "metadata": {},
   "outputs": [],
   "source": [
    "for feature, importance in zip(X_train.columns, grid_search.best_estimator_.feature_importances_):\n",
    "    print(feature, importance)"
   ]
  },
  {
   "cell_type": "markdown",
   "id": "d2077e85",
   "metadata": {},
   "source": [
    "global radiation and cloud cover seem to be the most important."
   ]
  },
  {
   "cell_type": "markdown",
   "id": "00792ff7",
   "metadata": {},
   "source": [
    "Now try it on the test set"
   ]
  },
  {
   "cell_type": "code",
   "execution_count": null,
   "id": "c099483b",
   "metadata": {},
   "outputs": [],
   "source": [
    "final_model = grid_search.best_estimator_\n",
    "\n",
    "X_trans = pipeline.transform(X_test)\n",
    "y_pred = final_model.predict(X_trans)\n",
    "\n",
    "plt.scatter(y_test, y_pred);"
   ]
  },
  {
   "cell_type": "markdown",
   "id": "7a956acc",
   "metadata": {},
   "source": [
    "Let's compare to lineara regression"
   ]
  },
  {
   "cell_type": "code",
   "execution_count": null,
   "id": "1b0f25c1",
   "metadata": {},
   "outputs": [],
   "source": [
    "plt.scatter(y_test, lin_reg.predict(X_trans));\n",
    "plt.scatter(y_test, tree_reg.predict(X_trans));"
   ]
  },
  {
   "cell_type": "markdown",
   "id": "25840e7c",
   "metadata": {},
   "source": [
    "Interestingly it seems that the main reason the tree does better is dealing with those outliers"
   ]
  },
  {
   "cell_type": "markdown",
   "id": "6a556c48",
   "metadata": {},
   "source": [
    "Exercises:\n",
    " - **Q10** How do the above change if we try to predict rainfall? temperature?\n",
    " - **Q11** Are any other of the out-of-the-box methods any better?\n",
    " - **Q12** Do these results change if you add in any new features e.g. month/year?\n",
    " - **Q13** Try this analysis out using other datasets from kaggle?\n",
    " - **Q14** How do the results change if we remove those outliers?"
   ]
  },
  {
   "cell_type": "markdown",
   "id": "cda4ab8b",
   "metadata": {},
   "source": [
    "# BREAK\n",
    " \n",
    " ***"
   ]
  },
  {
   "cell_type": "markdown",
   "id": "70ffd6a8",
   "metadata": {},
   "source": [
    "# Example 3: Neural network training\n",
    "\n",
    " ## Keras TensorFlow sequential API\n",
    " Let's specify an anatomy"
   ]
  },
  {
   "cell_type": "code",
   "execution_count": null,
   "id": "a58565d5",
   "metadata": {},
   "outputs": [],
   "source": [
    "from tensorflow import keras\n",
    "model = keras.models.Sequential()\n",
    "\n",
    "model.add(keras.layers.Input(X.shape[-1]))\n",
    "model.add(keras.layers.Dense(30, activation=\"relu\"))\n",
    "model.add(keras.layers.Dense(30, activation=\"relu\"))\n",
    "model.add(keras.layers.Dense(30, activation=\"relu\"))\n",
    "model.add(keras.layers.Dense(1, activation=\"softplus\"))"
   ]
  },
  {
   "cell_type": "markdown",
   "id": "627a7094",
   "metadata": {},
   "source": [
    "Alternatively we can do it in one go\n",
    "```\n",
    "model = keras.models.Sequential([\n",
    "    keras.layers.Input(X.shape[-1]),\n",
    "    keras.layers.Dense(30, activation=\"relu\"),\n",
    "    keras.layers.Dense(30, activation=\"relu\"),\n",
    "    keras.layers.Dense(1, activation=\"softplus\") \n",
    "    ])\n",
    "```"
   ]
  },
  {
   "cell_type": "markdown",
   "id": "f7729d84",
   "metadata": {},
   "source": [
    "Inspect the model"
   ]
  },
  {
   "cell_type": "code",
   "execution_count": null,
   "id": "b291c26b",
   "metadata": {},
   "outputs": [],
   "source": [
    "model.summary()\n",
    "\n",
    "model.summary()"
   ]
  },
  {
   "cell_type": "markdown",
   "id": "e92cf354",
   "metadata": {},
   "source": [
    "Specify the model training procedures with 'compilation'"
   ]
  },
  {
   "cell_type": "code",
   "execution_count": null,
   "id": "fed5413d",
   "metadata": {},
   "outputs": [],
   "source": [
    "model.compile(loss=\"mean_squared_error\", optimizer=\"sgd\", metrics=[\"accuracy\"])"
   ]
  },
  {
   "cell_type": "markdown",
   "id": "395af25a",
   "metadata": {},
   "source": [
    "Split into validation and testing using sklearn's `test_train_split` again"
   ]
  },
  {
   "cell_type": "code",
   "execution_count": null,
   "id": "9a69d880",
   "metadata": {},
   "outputs": [],
   "source": [
    "X_trans_, X_valid, y_train_, y_valid = train_test_split(pipeline.transform(X_train), y_train, test_size=0.2, random_state=43)"
   ]
  },
  {
   "cell_type": "markdown",
   "id": "4ee0aa54",
   "metadata": {},
   "source": [
    "Train!"
   ]
  },
  {
   "cell_type": "code",
   "execution_count": null,
   "id": "8373faee",
   "metadata": {},
   "outputs": [],
   "source": [
    "history = model.fit(X_trans_, y_train_, epochs=50, validation_data=(X_valid, y_valid))"
   ]
  },
  {
   "cell_type": "markdown",
   "id": "905ed589",
   "metadata": {},
   "source": [
    "Plot the history"
   ]
  },
  {
   "cell_type": "code",
   "execution_count": null,
   "id": "21c45527",
   "metadata": {},
   "outputs": [],
   "source": [
    "pd.DataFrame(history.history).plot()"
   ]
  },
  {
   "cell_type": "markdown",
   "id": "ee3d720e",
   "metadata": {},
   "source": [
    "Make predictions"
   ]
  },
  {
   "cell_type": "code",
   "execution_count": null,
   "id": "784f3f12",
   "metadata": {},
   "outputs": [],
   "source": [
    "plt.scatter(y_test, lin_reg.predict(pipeline.transform(X_test)));\n",
    "plt.scatter(y_test, model.predict(pipeline.transform(X_test)));"
   ]
  },
  {
   "cell_type": "markdown",
   "id": "44ce3875",
   "metadata": {},
   "source": [
    "## Keras TensorFlow functional API\n",
    " Now let's look at the functional API, implemented for a non-sequential 'wide and deep' network"
   ]
  },
  {
   "cell_type": "code",
   "execution_count": null,
   "id": "a54f1662",
   "metadata": {},
   "outputs": [],
   "source": [
    "input = keras.layers.Input(X.shape[-1])\n",
    "hidden1 = keras.layers.Dense(30, activation=\"relu\")(input)\n",
    "hidden2 = keras.layers.Dense(30, activation=\"relu\")(hidden1)\n",
    "concat = keras.layers.Concatenate()([input, hidden2])\n",
    "output = keras.layers.Dense(1, activation=\"softplus\")(concat)\n",
    "\n",
    "model = keras.models.Model(inputs=[input], outputs=[output])"
   ]
  },
  {
   "cell_type": "markdown",
   "id": "510f7199",
   "metadata": {},
   "source": [
    "Now let's fit it"
   ]
  },
  {
   "cell_type": "code",
   "execution_count": null,
   "id": "dc5a9383",
   "metadata": {},
   "outputs": [],
   "source": [
    "model.compile(loss=\"mean_squared_error\", optimizer=\"sgd\", metrics=[\"accuracy\"])\n",
    "history = model.fit(X_trans_, y_train_, epochs=50, validation_data=(X_valid, y_valid))\n",
    "            \n",
    "pd.DataFrame(history.history).plot()"
   ]
  },
  {
   "cell_type": "markdown",
   "id": "32ad6b01",
   "metadata": {},
   "source": [
    "Make predictions"
   ]
  },
  {
   "cell_type": "code",
   "execution_count": null,
   "id": "70cd1a39",
   "metadata": {},
   "outputs": [],
   "source": [
    "plt.scatter(y_test, lin_reg.predict(pipeline.transform(X_test)));\n",
    "plt.scatter(y_test, model.predict(pipeline.transform(X_test)));"
   ]
  },
  {
   "cell_type": "markdown",
   "id": "a18b21b1",
   "metadata": {},
   "source": [
    "## Keras TensorFlow Subclssing API\n",
    " This is useful for dynamic models. Here we implement the same 'wide and deep' network as above, but in principle this could change dynamically according to input"
   ]
  },
  {
   "cell_type": "code",
   "execution_count": null,
   "id": "5a4c1e0c",
   "metadata": {},
   "outputs": [],
   "source": [
    "class WideAndDeepModel(keras.models.Model):\n",
    "    def __init__(self, units=30, activation=\"relu\", **kwargs):\n",
    "        super().__init__(**kwargs)\n",
    "        self.hidden1 = keras.layers.Dense(units, activation=activation)\n",
    "        self.hidden2 = keras.layers.Dense(units, activation=activation)\n",
    "        self.output_ = keras.layers.Dense(1, activation=\"softplus\")\n",
    "\n",
    "    def call(self, input):\n",
    "        hidden1 = self.hidden1(input)\n",
    "        hidden2 = self.hidden2(hidden1)\n",
    "        concat = keras.layers.Concatenate()([input, hidden2])\n",
    "        output = self.output_(concat)\n",
    "        return output"
   ]
  },
  {
   "cell_type": "markdown",
   "id": "b5616b12",
   "metadata": {},
   "source": [
    "We define `model_` rather than `model` purely because we wish to return to the previous model earlier (subclassed models are more restrictive than functional or sequential models)."
   ]
  },
  {
   "cell_type": "code",
   "execution_count": null,
   "id": "ea2587f3",
   "metadata": {},
   "outputs": [],
   "source": [
    "model_ = WideAndDeepModel()\n",
    "model_.compile(loss=\"mean_squared_error\", optimizer=\"sgd\", metrics=[\"accuracy\"])\n",
    "history = model_.fit(X_trans_, y_train_, epochs=50, validation_data=(X_valid, y_valid))"
   ]
  },
  {
   "cell_type": "markdown",
   "id": "cdcdef10",
   "metadata": {},
   "source": [
    "We can inspect any weights we choose"
   ]
  },
  {
   "cell_type": "code",
   "execution_count": null,
   "id": "545218d2",
   "metadata": {},
   "outputs": [],
   "source": [
    "weights, biases = model.get_layer('dense_4').get_weights()\n",
    "weights"
   ]
  },
  {
   "cell_type": "markdown",
   "id": "c30ae041",
   "metadata": {},
   "source": [
    "Saving and restoring"
   ]
  },
  {
   "cell_type": "code",
   "execution_count": null,
   "id": "22cea19e",
   "metadata": {},
   "outputs": [],
   "source": [
    "model.save(\"my_keras_model.h5\")"
   ]
  },
  {
   "cell_type": "markdown",
   "id": "9f0e1f67",
   "metadata": {},
   "source": [
    "Tasks\n",
    " - **Q15** Make a more systematic comparison of all the methods losses\n",
    " - **Q15** Explore changing the neural network architectures/training mechanisms"
   ]
  },
  {
   "cell_type": "markdown",
   "id": "757984d1",
   "metadata": {},
   "source": [
    "## PyTorch"
   ]
  },
  {
   "cell_type": "markdown",
   "id": "400c3364",
   "metadata": {},
   "source": [
    "Define a sequential model for now"
   ]
  },
  {
   "cell_type": "code",
   "execution_count": null,
   "id": "fde00cba",
   "metadata": {},
   "outputs": [],
   "source": [
    "import torch\n",
    "\n",
    "model = torch.nn.Sequential(\n",
    "    torch.nn.Linear(X.shape[-1],30),\n",
    "    torch.nn.ReLU(),\n",
    "    torch.nn.Linear(30,30),\n",
    "    torch.nn.ReLU(), \n",
    "    torch.nn.Linear(30,1),\n",
    "    torch.nn.Softplus(), \n",
    "    )"
   ]
  },
  {
   "cell_type": "markdown",
   "id": "7aa7d996",
   "metadata": {},
   "source": [
    "Define a mean square error loss function"
   ]
  },
  {
   "cell_type": "code",
   "execution_count": null,
   "id": "bc095ce6",
   "metadata": {},
   "outputs": [],
   "source": [
    "loss_fn = torch.nn.MSELoss()"
   ]
  },
  {
   "cell_type": "markdown",
   "id": "a38a8e2a",
   "metadata": {},
   "source": [
    "Define a stochastic gradient descent optimiser with learning rate 1e-3"
   ]
  },
  {
   "cell_type": "code",
   "execution_count": null,
   "id": "a1a423f6",
   "metadata": {},
   "outputs": [],
   "source": [
    "optimizer = torch.optim.SGD(model.parameters(), lr=0.001)"
   ]
  },
  {
   "cell_type": "markdown",
   "id": "0acd9721",
   "metadata": {},
   "source": [
    "(slightly verbose) mechanism for passing training data into a format that pytorch can understand."
   ]
  },
  {
   "cell_type": "code",
   "execution_count": null,
   "id": "3c0ce9fd",
   "metadata": {},
   "outputs": [],
   "source": [
    "train_dataloader = torch.utils.data.DataLoader(torch.utils.data.TensorDataset(torch.tensor(X_trans_).float(), torch.tensor(y_train_.values).float()), batch_size=32)\n",
    "valid_dataloader = torch.utils.data.DataLoader(torch.utils.data.TensorDataset(torch.tensor(X_valid).float(), torch.tensor(y_valid.values).float()), batch_size=32)"
   ]
  },
  {
   "cell_type": "markdown",
   "id": "bd55cb59",
   "metadata": {},
   "source": [
    "The meat of the code -- train! (will discuss)"
   ]
  },
  {
   "cell_type": "code",
   "execution_count": null,
   "id": "7ca67814",
   "metadata": {},
   "outputs": [],
   "source": [
    "for _ in range(50):\n",
    "\n",
    "    sum_train_loss = 0\n",
    "    for x_batch, y_batch in train_dataloader:\n",
    "        pred = model(x_batch)[:, 0]\n",
    "        loss = loss_fn(pred, y_batch)\n",
    "        loss.backward()\n",
    "        optimizer.step()\n",
    "        optimizer.zero_grad()\n",
    "        sum_train_loss += loss.item()\n",
    "\n",
    "    sum_valid_loss = 0\n",
    "    with torch.no_grad():\n",
    "        for x_batch, y_batch in valid_dataloader:\n",
    "            pred = model(x_batch)[:, 0] \n",
    "            loss = loss_fn(pred, y_batch)\n",
    "            sum_valid_loss += loss.item()\n",
    "\n",
    "    print(\"Loss: (%.2f, %.2f)\" % (sum_train_loss/len(train_dataloader),\n",
    "                                  sum_valid_loss/len(valid_dataloader)))"
   ]
  },
  {
   "cell_type": "markdown",
   "id": "dd34b5c0",
   "metadata": {},
   "source": [
    "Plot the predictions"
   ]
  },
  {
   "cell_type": "code",
   "execution_count": null,
   "id": "a67d851e",
   "metadata": {},
   "outputs": [],
   "source": [
    "y_pred = model(torch.from_numpy(pipeline.transform(X_test)).float()).detach().numpy()\n",
    "plt.scatter(y_test, y_pred);"
   ]
  },
  {
   "cell_type": "markdown",
   "id": "cd16eec8",
   "metadata": {},
   "source": [
    "Tasks\n",
    " - **Q16** Compare and contrast the pytorch approach vs the keras approach. Which do you prefer?"
   ]
  }
 ],
 "metadata": {},
 "nbformat": 4,
 "nbformat_minor": 5
}
